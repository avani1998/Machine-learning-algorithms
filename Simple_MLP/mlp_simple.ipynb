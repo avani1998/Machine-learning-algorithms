{
 "cells": [
  {
   "cell_type": "code",
   "execution_count": 12,
   "metadata": {
    "colab": {},
    "colab_type": "code",
    "id": "xm-JXJV04ftB"
   },
   "outputs": [],
   "source": [
    "import pandas as pd\n",
    "import numpy as np\n",
    "from sklearn.model_selection import train_test_split\n",
    "import array,random"
   ]
  },
  {
   "cell_type": "code",
   "execution_count": 13,
   "metadata": {
    "colab": {
     "base_uri": "https://localhost:8080/",
     "height": 376
    },
    "colab_type": "code",
    "id": "UNzClWI-4qpo",
    "outputId": "15bdd89f-e881-4924-a04e-cdd1cece4c79"
   },
   "outputs": [
    {
     "name": "stdout",
     "output_type": "stream",
     "text": [
      "No. of Rows 99\n"
     ]
    },
    {
     "data": {
      "text/html": [
       "<div>\n",
       "<style scoped>\n",
       "    .dataframe tbody tr th:only-of-type {\n",
       "        vertical-align: middle;\n",
       "    }\n",
       "\n",
       "    .dataframe tbody tr th {\n",
       "        vertical-align: top;\n",
       "    }\n",
       "\n",
       "    .dataframe thead th {\n",
       "        text-align: right;\n",
       "    }\n",
       "</style>\n",
       "<table border=\"1\" class=\"dataframe\">\n",
       "  <thead>\n",
       "    <tr style=\"text-align: right;\">\n",
       "      <th></th>\n",
       "      <th>5.1</th>\n",
       "      <th>3.5</th>\n",
       "      <th>1.4</th>\n",
       "      <th>0.2</th>\n",
       "      <th>0</th>\n",
       "    </tr>\n",
       "  </thead>\n",
       "  <tbody>\n",
       "    <tr>\n",
       "      <th>0</th>\n",
       "      <td>4.9</td>\n",
       "      <td>3.0</td>\n",
       "      <td>1.4</td>\n",
       "      <td>0.2</td>\n",
       "      <td>0</td>\n",
       "    </tr>\n",
       "    <tr>\n",
       "      <th>1</th>\n",
       "      <td>4.7</td>\n",
       "      <td>3.2</td>\n",
       "      <td>1.3</td>\n",
       "      <td>0.2</td>\n",
       "      <td>0</td>\n",
       "    </tr>\n",
       "    <tr>\n",
       "      <th>2</th>\n",
       "      <td>4.6</td>\n",
       "      <td>3.1</td>\n",
       "      <td>1.5</td>\n",
       "      <td>0.2</td>\n",
       "      <td>0</td>\n",
       "    </tr>\n",
       "    <tr>\n",
       "      <th>3</th>\n",
       "      <td>5.0</td>\n",
       "      <td>3.6</td>\n",
       "      <td>1.4</td>\n",
       "      <td>0.2</td>\n",
       "      <td>0</td>\n",
       "    </tr>\n",
       "    <tr>\n",
       "      <th>4</th>\n",
       "      <td>5.4</td>\n",
       "      <td>3.9</td>\n",
       "      <td>1.7</td>\n",
       "      <td>0.4</td>\n",
       "      <td>0</td>\n",
       "    </tr>\n",
       "    <tr>\n",
       "      <th>5</th>\n",
       "      <td>4.6</td>\n",
       "      <td>3.4</td>\n",
       "      <td>1.4</td>\n",
       "      <td>0.3</td>\n",
       "      <td>0</td>\n",
       "    </tr>\n",
       "    <tr>\n",
       "      <th>6</th>\n",
       "      <td>5.0</td>\n",
       "      <td>3.4</td>\n",
       "      <td>1.5</td>\n",
       "      <td>0.2</td>\n",
       "      <td>0</td>\n",
       "    </tr>\n",
       "    <tr>\n",
       "      <th>7</th>\n",
       "      <td>4.4</td>\n",
       "      <td>2.9</td>\n",
       "      <td>1.4</td>\n",
       "      <td>0.2</td>\n",
       "      <td>0</td>\n",
       "    </tr>\n",
       "    <tr>\n",
       "      <th>8</th>\n",
       "      <td>4.9</td>\n",
       "      <td>3.1</td>\n",
       "      <td>1.5</td>\n",
       "      <td>0.1</td>\n",
       "      <td>0</td>\n",
       "    </tr>\n",
       "    <tr>\n",
       "      <th>9</th>\n",
       "      <td>5.4</td>\n",
       "      <td>3.7</td>\n",
       "      <td>1.5</td>\n",
       "      <td>0.2</td>\n",
       "      <td>0</td>\n",
       "    </tr>\n",
       "  </tbody>\n",
       "</table>\n",
       "</div>"
      ],
      "text/plain": [
       "   5.1  3.5  1.4  0.2  0\n",
       "0  4.9  3.0  1.4  0.2  0\n",
       "1  4.7  3.2  1.3  0.2  0\n",
       "2  4.6  3.1  1.5  0.2  0\n",
       "3  5.0  3.6  1.4  0.2  0\n",
       "4  5.4  3.9  1.7  0.4  0\n",
       "5  4.6  3.4  1.4  0.3  0\n",
       "6  5.0  3.4  1.5  0.2  0\n",
       "7  4.4  2.9  1.4  0.2  0\n",
       "8  4.9  3.1  1.5  0.1  0\n",
       "9  5.4  3.7  1.5  0.2  0"
      ]
     },
     "execution_count": 13,
     "metadata": {},
     "output_type": "execute_result"
    }
   ],
   "source": [
    "df = pd.read_csv(\"Data.csv\")\n",
    "print(\"No. of Rows \" + str(len(df)))\n",
    "df.head(10)"
   ]
  },
  {
   "cell_type": "markdown",
   "metadata": {},
   "source": [
    "#### SPLITTING DATA INTO TRAIN AND TEST"
   ]
  },
  {
   "cell_type": "code",
   "execution_count": 14,
   "metadata": {
    "colab": {
     "base_uri": "https://localhost:8080/",
     "height": 34
    },
    "colab_type": "code",
    "id": "tycaeHPS4tEd",
    "outputId": "ab66580d-9579-4963-eab9-440cf47a2260"
   },
   "outputs": [
    {
     "name": "stdout",
     "output_type": "stream",
     "text": [
      "4\n"
     ]
    }
   ],
   "source": [
    "train,test = train_test_split(df, test_size=0.2, random_state = 41)\n",
    "N = len(train.columns) - 1\n",
    "print(N)"
   ]
  },
  {
   "cell_type": "code",
   "execution_count": 15,
   "metadata": {
    "colab": {},
    "colab_type": "code",
    "id": "OAx4msSq41Xv"
   },
   "outputs": [],
   "source": [
    "dfs = np.split(train, np.arange(N, len(df.columns), N), axis=1)\n",
    "x_train = dfs[0]\n",
    "y_train = dfs[1]\n",
    "\n",
    "dfp = np.split(test, np.arange(N, len(df.columns), N), axis=1)\n",
    "x_test = dfp[0]\n",
    "y_test = dfp[1]"
   ]
  },
  {
   "cell_type": "code",
   "execution_count": 16,
   "metadata": {
    "colab": {
     "base_uri": "https://localhost:8080/",
     "height": 34
    },
    "colab_type": "code",
    "id": "RA5Tqrm45LL7",
    "outputId": "13e8dc4a-3f9a-49fb-b175-8f6a3f5279d0"
   },
   "outputs": [
    {
     "name": "stdout",
     "output_type": "stream",
     "text": [
      "Initial weights are : [1.0, 0.4080743396190455, 0.6543114635429693, 0.4533707414498712, 0.864537960562767]\n"
     ]
    }
   ],
   "source": [
    "epochs = 1500 \n",
    "alpha = 0.01\n",
    "weights = [1.00]     #weights[0]=bias \n",
    "dimensions =len(x_train.columns)\n",
    "for i in range (1,dimensions+1):\n",
    "  weights.append(random.random())\n",
    "print(\"Initial weights are : \" + str(weights))\n"
   ]
  },
  {
   "cell_type": "code",
   "execution_count": 17,
   "metadata": {
    "colab": {
     "base_uri": "https://localhost:8080/",
     "height": 34
    },
    "colab_type": "code",
    "id": "ErcfqyzW5PDU",
    "outputId": "0597e93b-3e99-4666-b1e3-8b96c1be9916"
   },
   "outputs": [
    {
     "name": "stdout",
     "output_type": "stream",
     "text": [
      "Final weights are: [0.8299999999999998, -0.4349256603809544, 0.07531146354296916, 0.20537074144987102, 0.820537960562767]\n"
     ]
    }
   ],
   "source": [
    "def predict(MyList = [] , *args):\n",
    "  sum = weights[0]\n",
    "  for i in range(1,dimensions+1):\n",
    "    sum = sum + weights[i]*MyList[i-1]\n",
    "  if(sum>=0):\n",
    "    return 1\n",
    "  else:\n",
    "    return 0\n",
    "\n",
    "\n",
    "for e in range(epochs):\n",
    "  for i in range(len(x_train)):\n",
    "    X = np.array(x_train.values[i])\n",
    "    Y = np.array(y_train.values[i])\n",
    "    prediction = predict(X)\n",
    "    error = Y - prediction\n",
    "    weights[0] = weights[0] + alpha*error\n",
    "    for d in range(1,dimensions+1):\n",
    "      weights[d] = weights[d] + (alpha*error*X[d-1])\n",
    "#Learning\n",
    "\n",
    "Weights = []\n",
    "for weight in weights:\n",
    "  Weights.append(weight[0])\n",
    "weights = Weights\n",
    "print(\"Final weights are: \"+ str(weights))\n"
   ]
  },
  {
   "cell_type": "markdown",
   "metadata": {
    "colab_type": "text",
    "id": "rZ9eKvnPlUAL"
   },
   "source": [
    "### FOR TRAINING DATA"
   ]
  },
  {
   "cell_type": "code",
   "execution_count": 18,
   "metadata": {
    "colab": {
     "base_uri": "https://localhost:8080/",
     "height": 207
    },
    "colab_type": "code",
    "id": "ZDLk-ODole2B",
    "outputId": "bd9c07eb-2dbc-4f42-8562-be24fd690fa3"
   },
   "outputs": [
    {
     "name": "stdout",
     "output_type": "stream",
     "text": [
      "[1, 1, 0, 1, 0, 0, 0, 1, 1, 1, 0, 1, 0, 1, 1, 0, 1, 0, 1, 1, 1, 0, 0, 0, 1, 1, 0, 0, 0, 0, 1, 0, 0, 0, 0, 0, 0, 0, 1, 0, 0, 1, 0, 0, 0, 1, 1, 1, 0, 1, 0, 1, 0, 1, 0, 0, 1, 0, 0, 1, 1, 1, 1, 1, 1, 1, 1, 1, 0, 1, 0, 1, 0, 1, 1, 1, 0, 0, 1]\n",
      "Confusion matrix is : \n",
      " TN FP \n",
      " FN TP\n",
      "[[39  0]\n",
      " [ 0 40]]\n",
      "Accuracy is: 1.0\n",
      "Precison is: 1.0\n",
      "Recall is: 1.0\n",
      "Fmeasure is: 1.0\n"
     ]
    }
   ],
   "source": [
    "Result_train = []\n",
    "for i in range(0,len(x_train)):\n",
    "  XTest = np.array(x_train.values[i])\n",
    "  #print(str(XTest) + \" : \" + str(predict(XTest)))\n",
    "  #print(predict(XTest))\n",
    "  Result_train.append(predict(XTest))\n",
    "\n",
    "print(Result_train)\n",
    "FN_train = 0\n",
    "TP_train = 0\n",
    "TN_train = 0\n",
    "FP_train = 0\n",
    "for i in range(len(x_train)):\n",
    "  Z = np.array(y_train.values[i])\n",
    "  if(Result_train[i] == Z == 1):\n",
    "    TP_train+=1\n",
    "  elif(Result_train[i] == 1 and Z == 0):\n",
    "    FP_train+=1\n",
    "  elif(Result_train[i] == Z == 0):\n",
    "    TN_train+=1\n",
    "  else:\n",
    "    FN_train+=1\n",
    "\n",
    "#displaying confision matrix\n",
    "\n",
    "ConfusionMatrix_Train = np.array([[TN_train,FP_train],[FN_train,TP_train]])\n",
    "print(\"Confusion matrix is : \\n TN FP \\n FN TP\")\n",
    "print(ConfusionMatrix_Train)\n",
    "\n",
    "#displaying metrics\n",
    "Accuracy_train = (TP_train + TN_train)/len(x_train)\n",
    "#print(\"Accuracy is: \" + str(Accuracy*100) + \"%\")\n",
    "Precision_train = TP_train/(TP_train+FP_train)\n",
    "Recall_train = TP_train/(TP_train + FN_train)\n",
    "FMeasure_train = (2*Precision_train*Recall_train)/(Precision_train+Recall_train)\n",
    "print(\"Accuracy is: \" + str(Accuracy_train)  + \"\\n\"\n",
    "+ \"Precison is: \"+str(Precision_train)+\"\\nRecall is: \"+ str(Recall_train)+\"\\nFmeasure is: \" + str(FMeasure_train))\n"
   ]
  },
  {
   "cell_type": "markdown",
   "metadata": {
    "colab_type": "text",
    "id": "MaQ0OxSxlNoF"
   },
   "source": [
    "### TESTING DATA"
   ]
  },
  {
   "cell_type": "code",
   "execution_count": 19,
   "metadata": {
    "colab": {
     "base_uri": "https://localhost:8080/",
     "height": 207
    },
    "colab_type": "code",
    "id": "c4xqri6r5XHV",
    "outputId": "c1ab4db6-6cd6-4413-cea8-b9e9a7aa6aee"
   },
   "outputs": [
    {
     "name": "stdout",
     "output_type": "stream",
     "text": [
      "[0, 1, 1, 0, 1, 0, 0, 0, 0, 1, 1, 1, 1, 0, 1, 1, 1, 0, 0, 0]\n",
      "Confusion matrix is : \n",
      " TN FP \n",
      " FN TP\n",
      "[[10  0]\n",
      " [ 0 10]]\n",
      "Accuracy is: 1.0\n",
      "Precison is: 1.0\n",
      "Recall is: 1.0\n",
      "Fmeasure is: 1.0\n"
     ]
    }
   ],
   "source": [
    "Result = []\n",
    "for i in range(0,len(x_test)):\n",
    "  XTest = np.array(x_test.values[i])\n",
    "  #print(str(XTest) + \" : \" + str(predict(XTest)))\n",
    "  Result.append(predict(XTest))\n",
    "\n",
    "print(Result)\n",
    "FN = 0\n",
    "TP = 0\n",
    "TN = 0\n",
    "FP = 0\n",
    "for i in range(len(x_test)):\n",
    "  Z = np.array(y_test.values[i])\n",
    "  if(Result[i] == Z == 1):\n",
    "    TP+=1\n",
    "  elif(Result[i] == 1 and Z == 0):\n",
    "    FP+=1\n",
    "  elif(Result[i] == Z == 0):\n",
    "    TN+=1\n",
    "  else:\n",
    "    FN+=1\n",
    "\n",
    "ConfusionMatrix = np.array([[TN,FP],[FN,TP]])\n",
    "print(\"Confusion matrix is : \\n TN FP \\n FN TP\")\n",
    "print(ConfusionMatrix)\n",
    "\n",
    "Accuracy = (TP + TN)/len(x_test)\n",
    "#print(\"Accuracy is: \" + str(Accuracy*100) + \"%\")\n",
    "Precision = TP/(TP+FP)\n",
    "Recall = TP/(TP + FN)\n",
    "FMeasure = (2*Precision*Recall)/(Precision+Recall)\n",
    "print(\"Accuracy is: \" + str(Accuracy)  + \"\\n\"\n",
    "+ \"Precison is: \"+str(Precision)+\"\\nRecall is: \"+ str(Recall)+\"\\nFmeasure is: \" + str(FMeasure))"
   ]
  },
  {
   "cell_type": "markdown",
   "metadata": {
    "colab_type": "text",
    "id": "bv1_XuY6kHGi"
   },
   "source": [
    "### VISUALISING CONFUSION MATRIX"
   ]
  },
  {
   "cell_type": "code",
   "execution_count": 20,
   "metadata": {
    "colab": {},
    "colab_type": "code",
    "id": "_oloUkTAmByZ"
   },
   "outputs": [],
   "source": [
    "predicted_df = pd.DataFrame({\"Predicted\":Result})"
   ]
  },
  {
   "cell_type": "code",
   "execution_count": 32,
   "metadata": {
    "colab": {
     "base_uri": "https://localhost:8080/",
     "height": 342
    },
    "colab_type": "code",
    "id": "-o9WeHYre2ub",
    "outputId": "45bc6071-9def-4122-e338-47f83153b257"
   },
   "outputs": [
    {
     "name": "stdout",
     "output_type": "stream",
     "text": [
      "[[10  0]\n",
      " [ 0 10]]\n"
     ]
    },
    {
     "data": {
      "image/png": "[encoded data removed]",
      "text/plain": [
       "<Figure size 432x288 with 1 Axes>"
      ]
     },
     "metadata": {
      "needs_background": "light"
     },
     "output_type": "display_data"
    }
   ],
   "source": [
    "import matplotlib.pyplot as plt\n",
    "from sklearn.metrics import confusion_matrix\n",
    "\n",
    "cm = confusion_matrix(y_test, predicted_df)\n",
    "print(cm)\n",
    "plt.clf()\n",
    "plt.imshow(cm, interpolation='none', cmap=plt.cm.Wistia)\n",
    "classNames = ['Negative','Positive']\n",
    "\n",
    "plt.ylabel('True label')\n",
    "plt.xlabel('Predicted label')\n",
    "tick_marks = np.arange(len(classNames))\n",
    "plt.xticks(tick_marks, classNames, rotation=45)\n",
    "plt.yticks(tick_marks, classNames)\n",
    "s = [['TN','FP'], ['FN', 'TP']]\n",
    "for i in range(2):\n",
    "    for j in range(2):\n",
    "        plt.text(j,i, str(s[i][j])+\" = \"+str(cm[i][j]))\n",
    "plt.show()"
   ]
  },
  {
   "cell_type": "markdown",
   "metadata": {
    "colab_type": "text",
    "id": "mmEUvDHJkLru"
   },
   "source": [
    "### VISUALISING ROC CURVE"
   ]
  },
  {
   "cell_type": "code",
   "execution_count": 26,
   "metadata": {
    "colab": {
     "base_uri": "https://localhost:8080/",
     "height": 282
    },
    "colab_type": "code",
    "id": "lrZP8Q3Fkldo",
    "outputId": "32656bee-8088-4974-8c5b-78f3bca5cdba"
   },
   "outputs": [
    {
     "data": {
      "image/png": "[encoded data removed]",
      "text/plain": [
       "<Figure size 432x288 with 1 Axes>"
      ]
     },
     "metadata": {
      "needs_background": "light"
     },
     "output_type": "display_data"
    },
    {
     "name": "stdout",
     "output_type": "stream",
     "text": [
      "AUC: 1.0\n"
     ]
    }
   ],
   "source": [
    "\n",
    "\n",
    "from sklearn import metrics\n",
    "fpr, tpr, thresholds = metrics.roc_curve(y_test, predicted_df, pos_label=0)\n",
    "# Print ROC curve\n",
    "plt.plot(tpr,fpr)\n",
    "plt.ylabel(\"True Positive Rate\")\n",
    "plt.xlabel(\"False Positive Rate\")\n",
    "plt.title(\"True Positive Rate Vs False Positive Rate\")\n",
    "plt.show()\n",
    "\n",
    "\n",
    "# Print AUC\n",
    "auc = np.trapz(fpr,tpr)\n",
    "print('AUC:', auc)"
   ]
  },
  {
   "cell_type": "markdown",
   "metadata": {
    "colab": {},
    "colab_type": "code",
    "id": "moRAQM_KlmBw"
   },
   "source": []
  }
 ],
 "metadata": {
  "colab": {
   "collapsed_sections": [],
   "name": "mlp_program",
   "provenance": []
  },
  "kernelspec": {
   "display_name": "Python 3",
   "language": "python",
   "name": "python3"
  },
  "language_info": {
   "codemirror_mode": {
    "name": "ipython",
    "version": 3
   },
   "file_extension": ".py",
   "mimetype": "text/x-python",
   "name": "python",
   "nbconvert_exporter": "python",
   "pygments_lexer": "ipython3",
   "version": "3.7.3"
  }
 },
 "nbformat": 4,
 "nbformat_minor": 1
}
